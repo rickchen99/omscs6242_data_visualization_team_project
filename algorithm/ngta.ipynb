{
 "cells": [
  {
   "cell_type": "markdown",
   "id": "0fa5f16a-1379-4516-a9e8-b231b6fb01e7",
   "metadata": {},
   "source": [
    "# install required libraries"
   ]
  },
  {
   "cell_type": "code",
   "execution_count": 96,
   "id": "d0b24daa-e6b1-42dd-a67d-14ee13b15d0f",
   "metadata": {},
   "outputs": [
    {
     "name": "stdout",
     "output_type": "stream",
     "text": [
      "Collecting pandas-gbq\n",
      "  Downloading pandas_gbq-0.17.9-py2.py3-none-any.whl (25 kB)\n",
      "Collecting db-dtypes<2.0.0,>=0.3.1\n",
      "  Downloading db_dtypes-1.0.4-py2.py3-none-any.whl (14 kB)\n",
      "Collecting pydata-google-auth\n",
      "  Downloading pydata_google_auth-1.4.0-py2.py3-none-any.whl (14 kB)\n",
      "Requirement already satisfied: google-api-core!=2.0.*,!=2.1.*,!=2.2.*,!=2.3.0,<3.0.0dev,>=1.31.5 in /opt/conda/lib/python3.7/site-packages (from pandas-gbq) (2.8.0)\n",
      "Requirement already satisfied: setuptools in /opt/conda/lib/python3.7/site-packages (from pandas-gbq) (59.8.0)\n",
      "Requirement already satisfied: google-cloud-bigquery!=2.4.*,<4.0.0dev,>=1.27.2 in /opt/conda/lib/python3.7/site-packages (from pandas-gbq) (2.34.4)\n",
      "Requirement already satisfied: google-auth-oauthlib>=0.0.1 in /opt/conda/lib/python3.7/site-packages (from pandas-gbq) (0.4.6)\n",
      "Requirement already satisfied: numpy>=1.16.6 in /opt/conda/lib/python3.7/site-packages (from pandas-gbq) (1.21.6)\n",
      "Requirement already satisfied: pandas>=0.24.2 in /opt/conda/lib/python3.7/site-packages (from pandas-gbq) (1.3.5)\n",
      "Requirement already satisfied: google-auth>=1.25.0 in /opt/conda/lib/python3.7/site-packages (from pandas-gbq) (2.13.0)\n",
      "Requirement already satisfied: google-cloud-bigquery-storage<3.0.0dev,>=1.1.0 in /opt/conda/lib/python3.7/site-packages (from pandas-gbq) (2.16.2)\n",
      "Collecting pyarrow<10.0dev,>=3.0.0\n",
      "  Downloading pyarrow-9.0.0-cp37-cp37m-manylinux_2_17_x86_64.manylinux2014_x86_64.whl (35.3 MB)\n",
      "\u001b[2K     \u001b[90m━━━━━━━━━━━━━━━━━━━━━━━━━━━━━━━━━━━━━━━━\u001b[0m \u001b[32m35.3/35.3 MB\u001b[0m \u001b[31m39.2 MB/s\u001b[0m eta \u001b[36m0:00:00\u001b[0m00:01\u001b[0m00:01\u001b[0m\n",
      "\u001b[?25hRequirement already satisfied: packaging>=17.0 in /opt/conda/lib/python3.7/site-packages (from db-dtypes<2.0.0,>=0.3.1->pandas-gbq) (21.3)\n",
      "Requirement already satisfied: protobuf>=3.12.0 in /opt/conda/lib/python3.7/site-packages (from google-api-core!=2.0.*,!=2.1.*,!=2.2.*,!=2.3.0,<3.0.0dev,>=1.31.5->pandas-gbq) (3.20.3)\n",
      "Requirement already satisfied: requests<3.0.0dev,>=2.18.0 in /opt/conda/lib/python3.7/site-packages (from google-api-core!=2.0.*,!=2.1.*,!=2.2.*,!=2.3.0,<3.0.0dev,>=1.31.5->pandas-gbq) (2.28.1)\n",
      "Requirement already satisfied: googleapis-common-protos<2.0dev,>=1.52.0 in /opt/conda/lib/python3.7/site-packages (from google-api-core!=2.0.*,!=2.1.*,!=2.2.*,!=2.3.0,<3.0.0dev,>=1.31.5->pandas-gbq) (1.56.4)\n",
      "Requirement already satisfied: pyasn1-modules>=0.2.1 in /opt/conda/lib/python3.7/site-packages (from google-auth>=1.25.0->pandas-gbq) (0.2.7)\n",
      "Requirement already satisfied: six>=1.9.0 in /opt/conda/lib/python3.7/site-packages (from google-auth>=1.25.0->pandas-gbq) (1.16.0)\n",
      "Requirement already satisfied: cachetools<6.0,>=2.0.0 in /opt/conda/lib/python3.7/site-packages (from google-auth>=1.25.0->pandas-gbq) (5.2.0)\n",
      "Requirement already satisfied: rsa<5,>=3.1.4 in /opt/conda/lib/python3.7/site-packages (from google-auth>=1.25.0->pandas-gbq) (4.9)\n",
      "Requirement already satisfied: requests-oauthlib>=0.7.0 in /opt/conda/lib/python3.7/site-packages (from google-auth-oauthlib>=0.0.1->pandas-gbq) (1.3.1)\n",
      "Requirement already satisfied: proto-plus<2.0.0dev,>=1.15.0 in /opt/conda/lib/python3.7/site-packages (from google-cloud-bigquery!=2.4.*,<4.0.0dev,>=1.27.2->pandas-gbq) (1.22.1)\n",
      "Requirement already satisfied: grpcio<2.0dev,>=1.38.1 in /opt/conda/lib/python3.7/site-packages (from google-cloud-bigquery!=2.4.*,<4.0.0dev,>=1.27.2->pandas-gbq) (1.50.0)\n",
      "Requirement already satisfied: google-resumable-media<3.0dev,>=0.6.0 in /opt/conda/lib/python3.7/site-packages (from google-cloud-bigquery!=2.4.*,<4.0.0dev,>=1.27.2->pandas-gbq) (2.4.0)\n",
      "Requirement already satisfied: google-cloud-core<3.0.0dev,>=1.4.1 in /opt/conda/lib/python3.7/site-packages (from google-cloud-bigquery!=2.4.*,<4.0.0dev,>=1.27.2->pandas-gbq) (2.3.2)\n",
      "Requirement already satisfied: python-dateutil<3.0dev,>=2.7.2 in /opt/conda/lib/python3.7/site-packages (from google-cloud-bigquery!=2.4.*,<4.0.0dev,>=1.27.2->pandas-gbq) (2.8.2)\n",
      "Requirement already satisfied: pytz>=2017.3 in /opt/conda/lib/python3.7/site-packages (from pandas>=0.24.2->pandas-gbq) (2022.5)\n",
      "Requirement already satisfied: grpcio-status<2.0dev,>=1.33.2 in /opt/conda/lib/python3.7/site-packages (from google-api-core!=2.0.*,!=2.1.*,!=2.2.*,!=2.3.0,<3.0.0dev,>=1.31.5->pandas-gbq) (1.48.2)\n",
      "Requirement already satisfied: google-crc32c<2.0dev,>=1.0 in /opt/conda/lib/python3.7/site-packages (from google-resumable-media<3.0dev,>=0.6.0->google-cloud-bigquery!=2.4.*,<4.0.0dev,>=1.27.2->pandas-gbq) (1.1.2)\n",
      "Requirement already satisfied: pyparsing!=3.0.5,>=2.0.2 in /opt/conda/lib/python3.7/site-packages (from packaging>=17.0->db-dtypes<2.0.0,>=0.3.1->pandas-gbq) (3.0.9)\n",
      "Requirement already satisfied: pyasn1<0.5.0,>=0.4.6 in /opt/conda/lib/python3.7/site-packages (from pyasn1-modules>=0.2.1->google-auth>=1.25.0->pandas-gbq) (0.4.8)\n",
      "Requirement already satisfied: charset-normalizer<3,>=2 in /opt/conda/lib/python3.7/site-packages (from requests<3.0.0dev,>=2.18.0->google-api-core!=2.0.*,!=2.1.*,!=2.2.*,!=2.3.0,<3.0.0dev,>=1.31.5->pandas-gbq) (2.1.1)\n",
      "Requirement already satisfied: urllib3<1.27,>=1.21.1 in /opt/conda/lib/python3.7/site-packages (from requests<3.0.0dev,>=2.18.0->google-api-core!=2.0.*,!=2.1.*,!=2.2.*,!=2.3.0,<3.0.0dev,>=1.31.5->pandas-gbq) (1.26.11)\n",
      "Requirement already satisfied: certifi>=2017.4.17 in /opt/conda/lib/python3.7/site-packages (from requests<3.0.0dev,>=2.18.0->google-api-core!=2.0.*,!=2.1.*,!=2.2.*,!=2.3.0,<3.0.0dev,>=1.31.5->pandas-gbq) (2022.9.24)\n",
      "Requirement already satisfied: idna<4,>=2.5 in /opt/conda/lib/python3.7/site-packages (from requests<3.0.0dev,>=2.18.0->google-api-core!=2.0.*,!=2.1.*,!=2.2.*,!=2.3.0,<3.0.0dev,>=1.31.5->pandas-gbq) (3.4)\n",
      "Requirement already satisfied: oauthlib>=3.0.0 in /opt/conda/lib/python3.7/site-packages (from requests-oauthlib>=0.7.0->google-auth-oauthlib>=0.0.1->pandas-gbq) (3.2.2)\n",
      "Requirement already satisfied: cffi>=1.0.0 in /opt/conda/lib/python3.7/site-packages (from google-crc32c<2.0dev,>=1.0->google-resumable-media<3.0dev,>=0.6.0->google-cloud-bigquery!=2.4.*,<4.0.0dev,>=1.27.2->pandas-gbq) (1.15.1)\n",
      "Requirement already satisfied: pycparser in /opt/conda/lib/python3.7/site-packages (from cffi>=1.0.0->google-crc32c<2.0dev,>=1.0->google-resumable-media<3.0dev,>=0.6.0->google-cloud-bigquery!=2.4.*,<4.0.0dev,>=1.27.2->pandas-gbq) (2.21)\n",
      "Installing collected packages: pyarrow, db-dtypes, pydata-google-auth, pandas-gbq\n",
      "  Attempting uninstall: pyarrow\n",
      "    Found existing installation: pyarrow 10.0.0\n",
      "    Uninstalling pyarrow-10.0.0:\n",
      "      Successfully uninstalled pyarrow-10.0.0\n",
      "\u001b[31mERROR: pip's dependency resolver does not currently take into account all the packages that are installed. This behaviour is the source of the following dependency conflicts.\n",
      "tfx-bsl 1.8.0 requires google-api-python-client<2,>=1.7.11, but you have google-api-python-client 2.65.0 which is incompatible.\n",
      "tfx-bsl 1.8.0 requires pyarrow<6,>=1, but you have pyarrow 9.0.0 which is incompatible.\n",
      "tensorflow-transform 1.8.0 requires pyarrow<6,>=1, but you have pyarrow 9.0.0 which is incompatible.\n",
      "apache-beam 2.42.0 requires pyarrow<8.0.0,>=0.15.1, but you have pyarrow 9.0.0 which is incompatible.\u001b[0m\u001b[31m\n",
      "\u001b[0mSuccessfully installed db-dtypes-1.0.4 pandas-gbq-0.17.9 pyarrow-9.0.0 pydata-google-auth-1.4.0\n",
      "Note: you may need to restart the kernel to use updated packages.\n"
     ]
    }
   ],
   "source": [
    "%pip install pandas-gbq"
   ]
  },
  {
   "cell_type": "code",
   "execution_count": 4,
   "id": "1b2c7e93-20ad-425c-b470-0c46e9c81331",
   "metadata": {},
   "outputs": [
    {
     "name": "stdout",
     "output_type": "stream",
     "text": [
      "Collecting bokeh\n",
      "  Downloading bokeh-2.4.3-py3-none-any.whl (18.5 MB)\n",
      "\u001b[2K     \u001b[90m━━━━━━━━━━━━━━━━━━━━━━━━━━━━━━━━━━━━━━━━\u001b[0m \u001b[32m18.5/18.5 MB\u001b[0m \u001b[31m60.0 MB/s\u001b[0m eta \u001b[36m0:00:00\u001b[0m00:01\u001b[0m00:01\u001b[0m\n",
      "\u001b[?25hRequirement already satisfied: PyYAML>=3.10 in /opt/conda/lib/python3.7/site-packages (from bokeh) (6.0)\n",
      "Requirement already satisfied: Jinja2>=2.9 in /opt/conda/lib/python3.7/site-packages (from bokeh) (3.1.2)\n",
      "Requirement already satisfied: packaging>=16.8 in /opt/conda/lib/python3.7/site-packages (from bokeh) (21.3)\n",
      "Requirement already satisfied: tornado>=5.1 in /opt/conda/lib/python3.7/site-packages (from bokeh) (6.2)\n",
      "Requirement already satisfied: typing-extensions>=3.10.0 in /opt/conda/lib/python3.7/site-packages (from bokeh) (4.4.0)\n",
      "Requirement already satisfied: numpy>=1.11.3 in /opt/conda/lib/python3.7/site-packages (from bokeh) (1.21.6)\n",
      "Requirement already satisfied: pillow>=7.1.0 in /opt/conda/lib/python3.7/site-packages (from bokeh) (9.2.0)\n",
      "Requirement already satisfied: MarkupSafe>=2.0 in /opt/conda/lib/python3.7/site-packages (from Jinja2>=2.9->bokeh) (2.1.1)\n",
      "Requirement already satisfied: pyparsing!=3.0.5,>=2.0.2 in /opt/conda/lib/python3.7/site-packages (from packaging>=16.8->bokeh) (3.0.9)\n",
      "Installing collected packages: bokeh\n",
      "Successfully installed bokeh-2.4.3\n",
      "Note: you may need to restart the kernel to use updated packages.\n"
     ]
    }
   ],
   "source": [
    "%pip install bokeh"
   ]
  },
  {
   "cell_type": "code",
   "execution_count": 6,
   "id": "33bd0f1a-1b5c-4b8c-b907-8b87e3991ec9",
   "metadata": {},
   "outputs": [
    {
     "name": "stdout",
     "output_type": "stream",
     "text": [
      "Collecting pandas_bokeh\n",
      "  Downloading pandas_bokeh-0.5.5-py2.py3-none-any.whl (29 kB)\n",
      "Requirement already satisfied: bokeh>=2.0 in /opt/conda/lib/python3.7/site-packages (from pandas_bokeh) (2.4.3)\n",
      "Requirement already satisfied: pandas>=0.22.0 in /opt/conda/lib/python3.7/site-packages (from pandas_bokeh) (1.3.5)\n",
      "Requirement already satisfied: pillow>=7.1.0 in /opt/conda/lib/python3.7/site-packages (from bokeh>=2.0->pandas_bokeh) (9.2.0)\n",
      "Requirement already satisfied: Jinja2>=2.9 in /opt/conda/lib/python3.7/site-packages (from bokeh>=2.0->pandas_bokeh) (3.1.2)\n",
      "Requirement already satisfied: PyYAML>=3.10 in /opt/conda/lib/python3.7/site-packages (from bokeh>=2.0->pandas_bokeh) (6.0)\n",
      "Requirement already satisfied: typing-extensions>=3.10.0 in /opt/conda/lib/python3.7/site-packages (from bokeh>=2.0->pandas_bokeh) (4.4.0)\n",
      "Requirement already satisfied: tornado>=5.1 in /opt/conda/lib/python3.7/site-packages (from bokeh>=2.0->pandas_bokeh) (6.2)\n",
      "Requirement already satisfied: numpy>=1.11.3 in /opt/conda/lib/python3.7/site-packages (from bokeh>=2.0->pandas_bokeh) (1.21.6)\n",
      "Requirement already satisfied: packaging>=16.8 in /opt/conda/lib/python3.7/site-packages (from bokeh>=2.0->pandas_bokeh) (21.3)\n",
      "Requirement already satisfied: python-dateutil>=2.7.3 in /opt/conda/lib/python3.7/site-packages (from pandas>=0.22.0->pandas_bokeh) (2.8.2)\n",
      "Requirement already satisfied: pytz>=2017.3 in /opt/conda/lib/python3.7/site-packages (from pandas>=0.22.0->pandas_bokeh) (2022.5)\n",
      "Requirement already satisfied: MarkupSafe>=2.0 in /opt/conda/lib/python3.7/site-packages (from Jinja2>=2.9->bokeh>=2.0->pandas_bokeh) (2.1.1)\n",
      "Requirement already satisfied: pyparsing!=3.0.5,>=2.0.2 in /opt/conda/lib/python3.7/site-packages (from packaging>=16.8->bokeh>=2.0->pandas_bokeh) (3.0.9)\n",
      "Requirement already satisfied: six>=1.5 in /opt/conda/lib/python3.7/site-packages (from python-dateutil>=2.7.3->pandas>=0.22.0->pandas_bokeh) (1.16.0)\n",
      "Installing collected packages: pandas_bokeh\n",
      "Successfully installed pandas_bokeh-0.5.5\n",
      "Note: you may need to restart the kernel to use updated packages.\n"
     ]
    }
   ],
   "source": [
    "%pip install pandas_bokeh"
   ]
  },
  {
   "cell_type": "code",
   "execution_count": 8,
   "id": "0fbd6b52-e2d6-4023-b602-06904bd4769d",
   "metadata": {},
   "outputs": [
    {
     "name": "stdout",
     "output_type": "stream",
     "text": [
      "Collecting tabulate\n",
      "  Downloading tabulate-0.9.0-py3-none-any.whl (35 kB)\n",
      "Installing collected packages: tabulate\n",
      "Successfully installed tabulate-0.9.0\n",
      "Note: you may need to restart the kernel to use updated packages.\n"
     ]
    }
   ],
   "source": [
    "%pip install tabulate"
   ]
  },
  {
   "cell_type": "markdown",
   "id": "59f4217b-4c42-475b-8319-10edf58e51b9",
   "metadata": {},
   "source": [
    "# load libraries"
   ]
  },
  {
   "cell_type": "code",
   "execution_count": 9,
   "id": "c3ea42eb-eabc-4565-ad80-fc3f93fad2a8",
   "metadata": {},
   "outputs": [],
   "source": [
    "from bokeh.io import output_notebook, show\n",
    "from bokeh.models import Circle, ColumnDataSource, HoverTool, MultiLine, Range1d\n",
    "from bokeh.plotting import figure, from_networkx\n",
    "from google.cloud import bigquery\n",
    "import networkx as nx\n",
    "import numpy as np\n",
    "import pandas as pd\n",
    "import pandas_bokeh as pb\n",
    "import random\n",
    "from scipy.special import binom\n",
    "from sys import stderr\n",
    "from tabulate import tabulate"
   ]
  },
  {
   "cell_type": "markdown",
   "id": "51bb5567-076b-40ae-989b-6910f9799396",
   "metadata": {},
   "source": [
    "# read in edges sql query"
   ]
  },
  {
   "cell_type": "code",
   "execution_count": 55,
   "id": "04d42301-e585-4fab-8876-b9e78e2eab37",
   "metadata": {},
   "outputs": [],
   "source": [
    "with open('edges.sql', 'r') as f:\n",
    "    query = f.read()\n",
    "f.close()"
   ]
  },
  {
   "cell_type": "markdown",
   "id": "a029160b-b51a-44b7-833b-801adc7d4050",
   "metadata": {},
   "source": [
    "# execute edges sql, retrieve results to dataframe"
   ]
  },
  {
   "cell_type": "code",
   "execution_count": 56,
   "id": "f8443a42-9956-4c17-a074-78b14154b9b6",
   "metadata": {},
   "outputs": [],
   "source": [
    "client = bigquery.Client()\n",
    "df = client.query(query).to_dataframe()"
   ]
  },
  {
   "cell_type": "code",
   "execution_count": 57,
   "id": "07b10aaa-fc11-4b9d-b327-5e2eadf6a8e1",
   "metadata": {},
   "outputs": [
    {
     "data": {
      "text/html": [
       "<div>\n",
       "<style scoped>\n",
       "    .dataframe tbody tr th:only-of-type {\n",
       "        vertical-align: middle;\n",
       "    }\n",
       "\n",
       "    .dataframe tbody tr th {\n",
       "        vertical-align: top;\n",
       "    }\n",
       "\n",
       "    .dataframe thead th {\n",
       "        text-align: right;\n",
       "    }\n",
       "</style>\n",
       "<table border=\"1\" class=\"dataframe\">\n",
       "  <thead>\n",
       "    <tr style=\"text-align: right;\">\n",
       "      <th></th>\n",
       "      <th>uid</th>\n",
       "      <th>source</th>\n",
       "      <th>target</th>\n",
       "      <th>date</th>\n",
       "      <th>num_claims</th>\n",
       "    </tr>\n",
       "  </thead>\n",
       "  <tbody>\n",
       "    <tr>\n",
       "      <th>0</th>\n",
       "      <td>5391821</td>\n",
       "      <td>fl:hi_ln:koyama-33</td>\n",
       "      <td>c0c8f35d-998e-412e-ae9f-d7fa6510abb6</td>\n",
       "      <td>1995-02-21</td>\n",
       "      <td>99</td>\n",
       "    </tr>\n",
       "    <tr>\n",
       "      <th>1</th>\n",
       "      <td>6215065</td>\n",
       "      <td>fl:al_ln:cox-12</td>\n",
       "      <td>a60f0553-cd92-402c-b000-aab9a33f387c</td>\n",
       "      <td>2001-04-10</td>\n",
       "      <td>99</td>\n",
       "    </tr>\n",
       "    <tr>\n",
       "      <th>2</th>\n",
       "      <td>5009973</td>\n",
       "      <td>fl:sa_ln:yoshida-22</td>\n",
       "      <td>1b6fc2a6-9128-42d7-b4fc-0b8fa04733b5</td>\n",
       "      <td>1991-04-23</td>\n",
       "      <td>99</td>\n",
       "    </tr>\n",
       "    <tr>\n",
       "      <th>3</th>\n",
       "      <td>5290269</td>\n",
       "      <td>fl:ma_ln:heiman-1</td>\n",
       "      <td>c9d2e9ca-ea50-4b7a-9ff9-580f8b643bd4</td>\n",
       "      <td>1994-03-01</td>\n",
       "      <td>99</td>\n",
       "    </tr>\n",
       "    <tr>\n",
       "      <th>4</th>\n",
       "      <td>6460417</td>\n",
       "      <td>fl:ra_ln:potyrailo-1</td>\n",
       "      <td>c3d9c587-99c9-4087-87c7-89d9a1038656</td>\n",
       "      <td>2002-10-08</td>\n",
       "      <td>99</td>\n",
       "    </tr>\n",
       "    <tr>\n",
       "      <th>...</th>\n",
       "      <td>...</td>\n",
       "      <td>...</td>\n",
       "      <td>...</td>\n",
       "      <td>...</td>\n",
       "      <td>...</td>\n",
       "    </tr>\n",
       "    <tr>\n",
       "      <th>7115043</th>\n",
       "      <td>D724495</td>\n",
       "      <td>fl:ma_ln:majdandzic-1</td>\n",
       "      <td>7e09e3cb-d8a1-4456-b5d8-a6dc08c2226e</td>\n",
       "      <td>2015-03-17</td>\n",
       "      <td>1</td>\n",
       "    </tr>\n",
       "    <tr>\n",
       "      <th>7115044</th>\n",
       "      <td>D811493</td>\n",
       "      <td>fl:st_ln:walterscheid-2</td>\n",
       "      <td>f732f476-6b40-42d5-87d8-0cd11e3ed56f</td>\n",
       "      <td>2018-02-27</td>\n",
       "      <td>1</td>\n",
       "    </tr>\n",
       "    <tr>\n",
       "      <th>7115045</th>\n",
       "      <td>D519144</td>\n",
       "      <td>fl:te_ln:kato-21</td>\n",
       "      <td>256ce24b-a535-4b25-96f9-ea7f8c1fa74d</td>\n",
       "      <td>2006-04-18</td>\n",
       "      <td>1</td>\n",
       "    </tr>\n",
       "    <tr>\n",
       "      <th>7115046</th>\n",
       "      <td>D528856</td>\n",
       "      <td>fl:cu_ln:pascal-1</td>\n",
       "      <td>5b39e708-c10a-4f25-a3c5-a8318c02ecb4</td>\n",
       "      <td>2006-09-26</td>\n",
       "      <td>1</td>\n",
       "    </tr>\n",
       "    <tr>\n",
       "      <th>7115047</th>\n",
       "      <td>D822773</td>\n",
       "      <td>fl:aj_ln:khubani-1</td>\n",
       "      <td>b25e1785-58f6-4b8f-a711-b1e05e7dbe06</td>\n",
       "      <td>2018-07-10</td>\n",
       "      <td>1</td>\n",
       "    </tr>\n",
       "  </tbody>\n",
       "</table>\n",
       "<p>7115048 rows × 5 columns</p>\n",
       "</div>"
      ],
      "text/plain": [
       "             uid                   source  \\\n",
       "0        5391821       fl:hi_ln:koyama-33   \n",
       "1        6215065          fl:al_ln:cox-12   \n",
       "2        5009973      fl:sa_ln:yoshida-22   \n",
       "3        5290269        fl:ma_ln:heiman-1   \n",
       "4        6460417     fl:ra_ln:potyrailo-1   \n",
       "...          ...                      ...   \n",
       "7115043  D724495    fl:ma_ln:majdandzic-1   \n",
       "7115044  D811493  fl:st_ln:walterscheid-2   \n",
       "7115045  D519144         fl:te_ln:kato-21   \n",
       "7115046  D528856        fl:cu_ln:pascal-1   \n",
       "7115047  D822773       fl:aj_ln:khubani-1   \n",
       "\n",
       "                                       target        date  num_claims  \n",
       "0        c0c8f35d-998e-412e-ae9f-d7fa6510abb6  1995-02-21          99  \n",
       "1        a60f0553-cd92-402c-b000-aab9a33f387c  2001-04-10          99  \n",
       "2        1b6fc2a6-9128-42d7-b4fc-0b8fa04733b5  1991-04-23          99  \n",
       "3        c9d2e9ca-ea50-4b7a-9ff9-580f8b643bd4  1994-03-01          99  \n",
       "4        c3d9c587-99c9-4087-87c7-89d9a1038656  2002-10-08          99  \n",
       "...                                       ...         ...         ...  \n",
       "7115043  7e09e3cb-d8a1-4456-b5d8-a6dc08c2226e  2015-03-17           1  \n",
       "7115044  f732f476-6b40-42d5-87d8-0cd11e3ed56f  2018-02-27           1  \n",
       "7115045  256ce24b-a535-4b25-96f9-ea7f8c1fa74d  2006-04-18           1  \n",
       "7115046  5b39e708-c10a-4f25-a3c5-a8318c02ecb4  2006-09-26           1  \n",
       "7115047  b25e1785-58f6-4b8f-a711-b1e05e7dbe06  2018-07-10           1  \n",
       "\n",
       "[7115048 rows x 5 columns]"
      ]
     },
     "execution_count": 57,
     "metadata": {},
     "output_type": "execute_result"
    }
   ],
   "source": [
    "#df = df.rename(columns={'num_claims': 'e'})\n",
    "df['num_claims'] = df['num_claims'].astype(int)\n",
    "df"
   ]
  },
  {
   "cell_type": "markdown",
   "id": "a023ad81-b349-495b-a15b-2897dfef1bfe",
   "metadata": {},
   "source": [
    "# read in nodes sql query"
   ]
  },
  {
   "cell_type": "code",
   "execution_count": 58,
   "id": "56fbb974-e6fb-43b8-b12c-c5e42f20a6df",
   "metadata": {},
   "outputs": [],
   "source": [
    "with open('nodes.sql', 'r') as f:\n",
    "    query = f.read()\n",
    "f.close()\n",
    "\n",
    "nodes = client.query(query).to_dataframe()"
   ]
  },
  {
   "cell_type": "markdown",
   "id": "d9b0967f-1039-434d-9337-ef69fbf0ab34",
   "metadata": {},
   "source": [
    "# examine distribution of raw edge counts\n",
    "### large hills and valleys may present challenges to convergences"
   ]
  },
  {
   "cell_type": "code",
   "execution_count": 90,
   "id": "2940189d-1cf1-4736-a647-1ed749bda7ba",
   "metadata": {},
   "outputs": [
    {
     "data": {
      "text/plain": [
       "<AxesSubplot:ylabel='Frequency'>"
      ]
     },
     "execution_count": 90,
     "metadata": {},
     "output_type": "execute_result"
    },
    {
     "data": {
      "image/png": "[encoded data removed]",
      "text/plain": [
       "<Figure size 640x480 with 1 Axes>"
      ]
     },
     "metadata": {},
     "output_type": "display_data"
    }
   ],
   "source": [
    "df['num_claims'].plot(kind='hist')"
   ]
  },
  {
   "cell_type": "markdown",
   "id": "2e1505ea-6e79-411e-bb27-5c080ddc1d1c",
   "metadata": {},
   "source": [
    "# This presents a challenge.\n",
    "### Lower citation counts are completely dominating the distribution. Let's examine with a log transformation"
   ]
  },
  {
   "cell_type": "code",
   "execution_count": 91,
   "id": "30ce7fbf-6e8d-4ef8-ad23-ccd2b5d88fa3",
   "metadata": {},
   "outputs": [
    {
     "data": {
      "text/plain": [
       "<AxesSubplot:ylabel='Frequency'>"
      ]
     },
     "execution_count": 91,
     "metadata": {},
     "output_type": "execute_result"
    },
    {
     "data": {
      "image/png": "[encoded data removed]",
      "text/plain": [
       "<Figure size 640x480 with 1 Axes>"
      ]
     },
     "metadata": {},
     "output_type": "display_data"
    }
   ],
   "source": [
    "df['num_claims'].plot(kind='hist', logy=True)"
   ]
  },
  {
   "cell_type": "markdown",
   "id": "178c0184-333b-4155-9ed2-2e08ebc16686",
   "metadata": {},
   "source": [
    "# much better.\n",
    "### let's implement a base ten log transformation against the data and plot a straight frequency distribution"
   ]
  },
  {
   "cell_type": "code",
   "execution_count": 69,
   "id": "08eb60c1-84f0-40a9-a77a-cc7ebdaf8481",
   "metadata": {},
   "outputs": [],
   "source": [
    "df['e'] = df['num_claims'].apply(lambda x: np.log10(x))"
   ]
  },
  {
   "cell_type": "code",
   "execution_count": 70,
   "id": "c6302625-71a2-41cf-8215-cc785f47cc0c",
   "metadata": {},
   "outputs": [
    {
     "data": {
      "text/plain": [
       "<AxesSubplot:ylabel='Frequency'>"
      ]
     },
     "execution_count": 70,
     "metadata": {},
     "output_type": "execute_result"
    },
    {
     "data": {
      "image/png": "[encoded data removed]",
      "text/plain": [
       "<Figure size 640x480 with 1 Axes>"
      ]
     },
     "metadata": {},
     "output_type": "display_data"
    }
   ],
   "source": [
    "df['e'].plot(kind='hist')"
   ]
  },
  {
   "cell_type": "code",
   "execution_count": 71,
   "id": "835dfc68-69af-44c8-8fda-bf62a2a7832e",
   "metadata": {},
   "outputs": [
    {
     "data": {
      "text/html": [
       "<div>\n",
       "<style scoped>\n",
       "    .dataframe tbody tr th:only-of-type {\n",
       "        vertical-align: middle;\n",
       "    }\n",
       "\n",
       "    .dataframe tbody tr th {\n",
       "        vertical-align: top;\n",
       "    }\n",
       "\n",
       "    .dataframe thead th {\n",
       "        text-align: right;\n",
       "    }\n",
       "</style>\n",
       "<table border=\"1\" class=\"dataframe\">\n",
       "  <thead>\n",
       "    <tr style=\"text-align: right;\">\n",
       "      <th></th>\n",
       "      <th>uid</th>\n",
       "      <th>source</th>\n",
       "      <th>target</th>\n",
       "      <th>date</th>\n",
       "      <th>num_claims</th>\n",
       "      <th>e</th>\n",
       "    </tr>\n",
       "  </thead>\n",
       "  <tbody>\n",
       "    <tr>\n",
       "      <th>0</th>\n",
       "      <td>5391821</td>\n",
       "      <td>fl:hi_ln:koyama-33</td>\n",
       "      <td>c0c8f35d-998e-412e-ae9f-d7fa6510abb6</td>\n",
       "      <td>1995-02-21</td>\n",
       "      <td>99</td>\n",
       "      <td>1.995635</td>\n",
       "    </tr>\n",
       "    <tr>\n",
       "      <th>1</th>\n",
       "      <td>6215065</td>\n",
       "      <td>fl:al_ln:cox-12</td>\n",
       "      <td>a60f0553-cd92-402c-b000-aab9a33f387c</td>\n",
       "      <td>2001-04-10</td>\n",
       "      <td>99</td>\n",
       "      <td>1.995635</td>\n",
       "    </tr>\n",
       "    <tr>\n",
       "      <th>2</th>\n",
       "      <td>5009973</td>\n",
       "      <td>fl:sa_ln:yoshida-22</td>\n",
       "      <td>1b6fc2a6-9128-42d7-b4fc-0b8fa04733b5</td>\n",
       "      <td>1991-04-23</td>\n",
       "      <td>99</td>\n",
       "      <td>1.995635</td>\n",
       "    </tr>\n",
       "    <tr>\n",
       "      <th>3</th>\n",
       "      <td>5290269</td>\n",
       "      <td>fl:ma_ln:heiman-1</td>\n",
       "      <td>c9d2e9ca-ea50-4b7a-9ff9-580f8b643bd4</td>\n",
       "      <td>1994-03-01</td>\n",
       "      <td>99</td>\n",
       "      <td>1.995635</td>\n",
       "    </tr>\n",
       "    <tr>\n",
       "      <th>4</th>\n",
       "      <td>6460417</td>\n",
       "      <td>fl:ra_ln:potyrailo-1</td>\n",
       "      <td>c3d9c587-99c9-4087-87c7-89d9a1038656</td>\n",
       "      <td>2002-10-08</td>\n",
       "      <td>99</td>\n",
       "      <td>1.995635</td>\n",
       "    </tr>\n",
       "    <tr>\n",
       "      <th>...</th>\n",
       "      <td>...</td>\n",
       "      <td>...</td>\n",
       "      <td>...</td>\n",
       "      <td>...</td>\n",
       "      <td>...</td>\n",
       "      <td>...</td>\n",
       "    </tr>\n",
       "    <tr>\n",
       "      <th>7115043</th>\n",
       "      <td>D724495</td>\n",
       "      <td>fl:ma_ln:majdandzic-1</td>\n",
       "      <td>7e09e3cb-d8a1-4456-b5d8-a6dc08c2226e</td>\n",
       "      <td>2015-03-17</td>\n",
       "      <td>1</td>\n",
       "      <td>0.000000</td>\n",
       "    </tr>\n",
       "    <tr>\n",
       "      <th>7115044</th>\n",
       "      <td>D811493</td>\n",
       "      <td>fl:st_ln:walterscheid-2</td>\n",
       "      <td>f732f476-6b40-42d5-87d8-0cd11e3ed56f</td>\n",
       "      <td>2018-02-27</td>\n",
       "      <td>1</td>\n",
       "      <td>0.000000</td>\n",
       "    </tr>\n",
       "    <tr>\n",
       "      <th>7115045</th>\n",
       "      <td>D519144</td>\n",
       "      <td>fl:te_ln:kato-21</td>\n",
       "      <td>256ce24b-a535-4b25-96f9-ea7f8c1fa74d</td>\n",
       "      <td>2006-04-18</td>\n",
       "      <td>1</td>\n",
       "      <td>0.000000</td>\n",
       "    </tr>\n",
       "    <tr>\n",
       "      <th>7115046</th>\n",
       "      <td>D528856</td>\n",
       "      <td>fl:cu_ln:pascal-1</td>\n",
       "      <td>5b39e708-c10a-4f25-a3c5-a8318c02ecb4</td>\n",
       "      <td>2006-09-26</td>\n",
       "      <td>1</td>\n",
       "      <td>0.000000</td>\n",
       "    </tr>\n",
       "    <tr>\n",
       "      <th>7115047</th>\n",
       "      <td>D822773</td>\n",
       "      <td>fl:aj_ln:khubani-1</td>\n",
       "      <td>b25e1785-58f6-4b8f-a711-b1e05e7dbe06</td>\n",
       "      <td>2018-07-10</td>\n",
       "      <td>1</td>\n",
       "      <td>0.000000</td>\n",
       "    </tr>\n",
       "  </tbody>\n",
       "</table>\n",
       "<p>7115048 rows × 6 columns</p>\n",
       "</div>"
      ],
      "text/plain": [
       "             uid                   source  \\\n",
       "0        5391821       fl:hi_ln:koyama-33   \n",
       "1        6215065          fl:al_ln:cox-12   \n",
       "2        5009973      fl:sa_ln:yoshida-22   \n",
       "3        5290269        fl:ma_ln:heiman-1   \n",
       "4        6460417     fl:ra_ln:potyrailo-1   \n",
       "...          ...                      ...   \n",
       "7115043  D724495    fl:ma_ln:majdandzic-1   \n",
       "7115044  D811493  fl:st_ln:walterscheid-2   \n",
       "7115045  D519144         fl:te_ln:kato-21   \n",
       "7115046  D528856        fl:cu_ln:pascal-1   \n",
       "7115047  D822773       fl:aj_ln:khubani-1   \n",
       "\n",
       "                                       target        date  num_claims  \\\n",
       "0        c0c8f35d-998e-412e-ae9f-d7fa6510abb6  1995-02-21          99   \n",
       "1        a60f0553-cd92-402c-b000-aab9a33f387c  2001-04-10          99   \n",
       "2        1b6fc2a6-9128-42d7-b4fc-0b8fa04733b5  1991-04-23          99   \n",
       "3        c9d2e9ca-ea50-4b7a-9ff9-580f8b643bd4  1994-03-01          99   \n",
       "4        c3d9c587-99c9-4087-87c7-89d9a1038656  2002-10-08          99   \n",
       "...                                       ...         ...         ...   \n",
       "7115043  7e09e3cb-d8a1-4456-b5d8-a6dc08c2226e  2015-03-17           1   \n",
       "7115044  f732f476-6b40-42d5-87d8-0cd11e3ed56f  2018-02-27           1   \n",
       "7115045  256ce24b-a535-4b25-96f9-ea7f8c1fa74d  2006-04-18           1   \n",
       "7115046  5b39e708-c10a-4f25-a3c5-a8318c02ecb4  2006-09-26           1   \n",
       "7115047  b25e1785-58f6-4b8f-a711-b1e05e7dbe06  2018-07-10           1   \n",
       "\n",
       "                e  \n",
       "0        1.995635  \n",
       "1        1.995635  \n",
       "2        1.995635  \n",
       "3        1.995635  \n",
       "4        1.995635  \n",
       "...           ...  \n",
       "7115043  0.000000  \n",
       "7115044  0.000000  \n",
       "7115045  0.000000  \n",
       "7115046  0.000000  \n",
       "7115047  0.000000  \n",
       "\n",
       "[7115048 rows x 6 columns]"
      ]
     },
     "execution_count": 71,
     "metadata": {},
     "output_type": "execute_result"
    }
   ],
   "source": [
    "df"
   ]
  },
  {
   "cell_type": "markdown",
   "id": "104f03ea-c2de-4b56-bf02-bf2b3d28ea13",
   "metadata": {},
   "source": [
    "# set required outer values for NGTA"
   ]
  },
  {
   "cell_type": "code",
   "execution_count": 72,
   "id": "967a512e-0f7d-4385-b9e6-0246757a9690",
   "metadata": {},
   "outputs": [
    {
     "data": {
      "text/plain": [
       "2.9479236198317262"
      ]
     },
     "execution_count": 72,
     "metadata": {},
     "output_type": "execute_result"
    }
   ],
   "source": [
    "measurement_count = max(df['e'])\n",
    "node_count = len(nodes)\n",
    "edge_count = len(df)"
   ]
  },
  {
   "cell_type": "markdown",
   "id": "4a01404f-b565-48e9-b306-fe11b36d64fb",
   "metadata": {},
   "source": [
    "# Success. Now let's run newman's algorithm"
   ]
  },
  {
   "cell_type": "code",
   "execution_count": 73,
   "id": "3b394af7-dff1-4239-a806-a9ebfc1c0d8e",
   "metadata": {},
   "outputs": [
    {
     "name": "stdout",
     "output_type": "stream",
     "text": [
      "0\n",
      "1\n",
      "2\n"
     ]
    }
   ],
   "source": [
    "# set random initial value for alpha, beta, rho\n",
    "alpha = beta = rho = 0.5*random.random()\n",
    "\n",
    "# store stepwise alpha, beta, rho values as they converge\n",
    "_alpha, _beta, _rho = [], [], []\n",
    "\n",
    "# run the algorithm\n",
    "for r in range(3):\n",
    "    print(r)\n",
    "    df['q'] = df.apply(lambda row: rho*(alpha**row['e'])*(1-alpha)**(measurement_count - row['e'])/ \\\n",
    "                       (rho*(alpha**row['e'])*(1-alpha)**(measurement_count-row['e']) + \\\n",
    "                       (1-rho)*(beta**row['e'])*(1-beta)**(measurement_count-row['e'])), axis=1)\n",
    "    \n",
    "    df['eq'] = df.apply(lambda row: row['e']* row['q'], axis=1)\n",
    "    \n",
    "    alpha = df['eq'].sum() / (measurement_count*df['q'].sum())\n",
    "    _alpha.append(alpha)\n",
    "    \n",
    "    beta = (df['e'].sum()-df['eq'].sum()) / (measurement_count*(binom(node_count, 2)-df['q'].sum()))\n",
    "    _beta.append(beta)\n",
    "    \n",
    "    rho = df['q'].sum() / binom(node_count, 2)\n",
    "    _rho.append(rho)\n",
    "\n",
    "# with converged alpha, beta, and rho values, we can calculate a false-discovery rate for the network\n",
    "fdr = ((1-rho)*beta)/((rho*alpha) + ((1-rho)*beta))\n",
    "\n",
    "# rounded values for display only\n",
    "r_fdr, r_alpha, r_beta = round(fdr, 2), round(alpha, 4), round(beta, 4)"
   ]
  },
  {
   "cell_type": "code",
   "execution_count": 74,
   "id": "47bef2d8-9eec-44bc-939f-6bbe5a85cc40",
   "metadata": {},
   "outputs": [
    {
     "name": "stdout",
     "output_type": "stream",
     "text": [
      "alpha (network average true positive rate): 0.4321600082282091\n",
      "beta (network average false positive rate): 6.668164745604011e-08\n",
      "False Discovery rate: 0.23438247210144172\n"
     ]
    }
   ],
   "source": [
    "print(f'alpha (network average true positive rate): {alpha}')\n",
    "print(f'beta (network average false positive rate): {beta}')\n",
    "print(f'False Discovery rate: {fdr}')"
   ]
  },
  {
   "cell_type": "markdown",
   "id": "16ed0287-07b6-43f9-8ef4-11d97002ddd5",
   "metadata": {},
   "source": [
    "# load network level metastatistics to bigquery"
   ]
  },
  {
   "cell_type": "code",
   "execution_count": 102,
   "id": "fe4001a8-6250-47e6-b135-019ff3c63902",
   "metadata": {},
   "outputs": [
    {
     "data": {
      "text/html": [
       "<div>\n",
       "<style scoped>\n",
       "    .dataframe tbody tr th:only-of-type {\n",
       "        vertical-align: middle;\n",
       "    }\n",
       "\n",
       "    .dataframe tbody tr th {\n",
       "        vertical-align: top;\n",
       "    }\n",
       "\n",
       "    .dataframe thead th {\n",
       "        text-align: right;\n",
       "    }\n",
       "</style>\n",
       "<table border=\"1\" class=\"dataframe\">\n",
       "  <thead>\n",
       "    <tr style=\"text-align: right;\">\n",
       "      <th></th>\n",
       "      <th>stat</th>\n",
       "      <th>value</th>\n",
       "    </tr>\n",
       "  </thead>\n",
       "  <tbody>\n",
       "    <tr>\n",
       "      <th>0</th>\n",
       "      <td>true_positive</td>\n",
       "      <td>4.321600e-01</td>\n",
       "    </tr>\n",
       "    <tr>\n",
       "      <th>1</th>\n",
       "      <td>false_positive</td>\n",
       "      <td>6.668165e-08</td>\n",
       "    </tr>\n",
       "    <tr>\n",
       "      <th>2</th>\n",
       "      <td>false_discovery</td>\n",
       "      <td>2.343825e-01</td>\n",
       "    </tr>\n",
       "  </tbody>\n",
       "</table>\n",
       "</div>"
      ],
      "text/plain": [
       "              stat         value\n",
       "0    true_positive  4.321600e-01\n",
       "1   false_positive  6.668165e-08\n",
       "2  false_discovery  2.343825e-01"
      ]
     },
     "execution_count": 102,
     "metadata": {},
     "output_type": "execute_result"
    }
   ],
   "source": [
    "meta_df = pd.DataFrame.from_dict({'true_positive': alpha, 'false_positive': beta, 'false_discovery': fdr}, orient='index').reset_index().rename(columns={'index': 'stat', 0: 'value'})\n",
    "meta_df"
   ]
  },
  {
   "cell_type": "code",
   "execution_count": 103,
   "id": "b13b1726-c4ab-4f92-9412-d2caccfe62bf",
   "metadata": {},
   "outputs": [
    {
     "name": "stderr",
     "output_type": "stream",
     "text": [
      "100%|██████████| 1/1 [00:00<00:00, 9157.87it/s]\n"
     ]
    }
   ],
   "source": [
    "meta_df.to_gbq('master.meta_ngta')"
   ]
  },
  {
   "cell_type": "code",
   "execution_count": 75,
   "id": "bb4e8e5c-b698-4938-81de-8126908bde4d",
   "metadata": {},
   "outputs": [
    {
     "data": {
      "text/html": [
       "<div>\n",
       "<style scoped>\n",
       "    .dataframe tbody tr th:only-of-type {\n",
       "        vertical-align: middle;\n",
       "    }\n",
       "\n",
       "    .dataframe tbody tr th {\n",
       "        vertical-align: top;\n",
       "    }\n",
       "\n",
       "    .dataframe thead th {\n",
       "        text-align: right;\n",
       "    }\n",
       "</style>\n",
       "<table border=\"1\" class=\"dataframe\">\n",
       "  <thead>\n",
       "    <tr style=\"text-align: right;\">\n",
       "      <th></th>\n",
       "      <th>uid</th>\n",
       "      <th>source</th>\n",
       "      <th>target</th>\n",
       "      <th>date</th>\n",
       "      <th>num_claims</th>\n",
       "      <th>e</th>\n",
       "      <th>q</th>\n",
       "      <th>eq</th>\n",
       "    </tr>\n",
       "  </thead>\n",
       "  <tbody>\n",
       "    <tr>\n",
       "      <th>0</th>\n",
       "      <td>5391821</td>\n",
       "      <td>fl:hi_ln:koyama-33</td>\n",
       "      <td>c0c8f35d-998e-412e-ae9f-d7fa6510abb6</td>\n",
       "      <td>1995-02-21</td>\n",
       "      <td>99</td>\n",
       "      <td>1.995635</td>\n",
       "      <td>9.999998e-01</td>\n",
       "      <td>1.995635</td>\n",
       "    </tr>\n",
       "    <tr>\n",
       "      <th>1</th>\n",
       "      <td>6215065</td>\n",
       "      <td>fl:al_ln:cox-12</td>\n",
       "      <td>a60f0553-cd92-402c-b000-aab9a33f387c</td>\n",
       "      <td>2001-04-10</td>\n",
       "      <td>99</td>\n",
       "      <td>1.995635</td>\n",
       "      <td>9.999998e-01</td>\n",
       "      <td>1.995635</td>\n",
       "    </tr>\n",
       "    <tr>\n",
       "      <th>2</th>\n",
       "      <td>5009973</td>\n",
       "      <td>fl:sa_ln:yoshida-22</td>\n",
       "      <td>1b6fc2a6-9128-42d7-b4fc-0b8fa04733b5</td>\n",
       "      <td>1991-04-23</td>\n",
       "      <td>99</td>\n",
       "      <td>1.995635</td>\n",
       "      <td>9.999998e-01</td>\n",
       "      <td>1.995635</td>\n",
       "    </tr>\n",
       "    <tr>\n",
       "      <th>3</th>\n",
       "      <td>5290269</td>\n",
       "      <td>fl:ma_ln:heiman-1</td>\n",
       "      <td>c9d2e9ca-ea50-4b7a-9ff9-580f8b643bd4</td>\n",
       "      <td>1994-03-01</td>\n",
       "      <td>99</td>\n",
       "      <td>1.995635</td>\n",
       "      <td>9.999998e-01</td>\n",
       "      <td>1.995635</td>\n",
       "    </tr>\n",
       "    <tr>\n",
       "      <th>4</th>\n",
       "      <td>6460417</td>\n",
       "      <td>fl:ra_ln:potyrailo-1</td>\n",
       "      <td>c3d9c587-99c9-4087-87c7-89d9a1038656</td>\n",
       "      <td>2002-10-08</td>\n",
       "      <td>99</td>\n",
       "      <td>1.995635</td>\n",
       "      <td>9.999998e-01</td>\n",
       "      <td>1.995635</td>\n",
       "    </tr>\n",
       "    <tr>\n",
       "      <th>...</th>\n",
       "      <td>...</td>\n",
       "      <td>...</td>\n",
       "      <td>...</td>\n",
       "      <td>...</td>\n",
       "      <td>...</td>\n",
       "      <td>...</td>\n",
       "      <td>...</td>\n",
       "      <td>...</td>\n",
       "    </tr>\n",
       "    <tr>\n",
       "      <th>7115043</th>\n",
       "      <td>D724495</td>\n",
       "      <td>fl:ma_ln:majdandzic-1</td>\n",
       "      <td>7e09e3cb-d8a1-4456-b5d8-a6dc08c2226e</td>\n",
       "      <td>2015-03-17</td>\n",
       "      <td>1</td>\n",
       "      <td>0.000000</td>\n",
       "      <td>8.266389e-08</td>\n",
       "      <td>0.000000</td>\n",
       "    </tr>\n",
       "    <tr>\n",
       "      <th>7115044</th>\n",
       "      <td>D811493</td>\n",
       "      <td>fl:st_ln:walterscheid-2</td>\n",
       "      <td>f732f476-6b40-42d5-87d8-0cd11e3ed56f</td>\n",
       "      <td>2018-02-27</td>\n",
       "      <td>1</td>\n",
       "      <td>0.000000</td>\n",
       "      <td>8.266389e-08</td>\n",
       "      <td>0.000000</td>\n",
       "    </tr>\n",
       "    <tr>\n",
       "      <th>7115045</th>\n",
       "      <td>D519144</td>\n",
       "      <td>fl:te_ln:kato-21</td>\n",
       "      <td>256ce24b-a535-4b25-96f9-ea7f8c1fa74d</td>\n",
       "      <td>2006-04-18</td>\n",
       "      <td>1</td>\n",
       "      <td>0.000000</td>\n",
       "      <td>8.266389e-08</td>\n",
       "      <td>0.000000</td>\n",
       "    </tr>\n",
       "    <tr>\n",
       "      <th>7115046</th>\n",
       "      <td>D528856</td>\n",
       "      <td>fl:cu_ln:pascal-1</td>\n",
       "      <td>5b39e708-c10a-4f25-a3c5-a8318c02ecb4</td>\n",
       "      <td>2006-09-26</td>\n",
       "      <td>1</td>\n",
       "      <td>0.000000</td>\n",
       "      <td>8.266389e-08</td>\n",
       "      <td>0.000000</td>\n",
       "    </tr>\n",
       "    <tr>\n",
       "      <th>7115047</th>\n",
       "      <td>D822773</td>\n",
       "      <td>fl:aj_ln:khubani-1</td>\n",
       "      <td>b25e1785-58f6-4b8f-a711-b1e05e7dbe06</td>\n",
       "      <td>2018-07-10</td>\n",
       "      <td>1</td>\n",
       "      <td>0.000000</td>\n",
       "      <td>8.266389e-08</td>\n",
       "      <td>0.000000</td>\n",
       "    </tr>\n",
       "  </tbody>\n",
       "</table>\n",
       "<p>7115048 rows × 8 columns</p>\n",
       "</div>"
      ],
      "text/plain": [
       "             uid                   source  \\\n",
       "0        5391821       fl:hi_ln:koyama-33   \n",
       "1        6215065          fl:al_ln:cox-12   \n",
       "2        5009973      fl:sa_ln:yoshida-22   \n",
       "3        5290269        fl:ma_ln:heiman-1   \n",
       "4        6460417     fl:ra_ln:potyrailo-1   \n",
       "...          ...                      ...   \n",
       "7115043  D724495    fl:ma_ln:majdandzic-1   \n",
       "7115044  D811493  fl:st_ln:walterscheid-2   \n",
       "7115045  D519144         fl:te_ln:kato-21   \n",
       "7115046  D528856        fl:cu_ln:pascal-1   \n",
       "7115047  D822773       fl:aj_ln:khubani-1   \n",
       "\n",
       "                                       target        date  num_claims  \\\n",
       "0        c0c8f35d-998e-412e-ae9f-d7fa6510abb6  1995-02-21          99   \n",
       "1        a60f0553-cd92-402c-b000-aab9a33f387c  2001-04-10          99   \n",
       "2        1b6fc2a6-9128-42d7-b4fc-0b8fa04733b5  1991-04-23          99   \n",
       "3        c9d2e9ca-ea50-4b7a-9ff9-580f8b643bd4  1994-03-01          99   \n",
       "4        c3d9c587-99c9-4087-87c7-89d9a1038656  2002-10-08          99   \n",
       "...                                       ...         ...         ...   \n",
       "7115043  7e09e3cb-d8a1-4456-b5d8-a6dc08c2226e  2015-03-17           1   \n",
       "7115044  f732f476-6b40-42d5-87d8-0cd11e3ed56f  2018-02-27           1   \n",
       "7115045  256ce24b-a535-4b25-96f9-ea7f8c1fa74d  2006-04-18           1   \n",
       "7115046  5b39e708-c10a-4f25-a3c5-a8318c02ecb4  2006-09-26           1   \n",
       "7115047  b25e1785-58f6-4b8f-a711-b1e05e7dbe06  2018-07-10           1   \n",
       "\n",
       "                e             q        eq  \n",
       "0        1.995635  9.999998e-01  1.995635  \n",
       "1        1.995635  9.999998e-01  1.995635  \n",
       "2        1.995635  9.999998e-01  1.995635  \n",
       "3        1.995635  9.999998e-01  1.995635  \n",
       "4        1.995635  9.999998e-01  1.995635  \n",
       "...           ...           ...       ...  \n",
       "7115043  0.000000  8.266389e-08  0.000000  \n",
       "7115044  0.000000  8.266389e-08  0.000000  \n",
       "7115045  0.000000  8.266389e-08  0.000000  \n",
       "7115046  0.000000  8.266389e-08  0.000000  \n",
       "7115047  0.000000  8.266389e-08  0.000000  \n",
       "\n",
       "[7115048 rows x 8 columns]"
      ]
     },
     "execution_count": 75,
     "metadata": {},
     "output_type": "execute_result"
    }
   ],
   "source": [
    "df"
   ]
  },
  {
   "cell_type": "markdown",
   "id": "aefcb286-420b-4feb-83d6-99504883f208",
   "metadata": {},
   "source": [
    "# examine alpha, beta, and rho's convergences"
   ]
  },
  {
   "cell_type": "code",
   "execution_count": 76,
   "id": "eac40422-3861-4a73-8650-37ca66a45784",
   "metadata": {},
   "outputs": [
    {
     "data": {
      "image/png": "[encoded data removed]",
      "text/plain": [
       "<Figure size 640x480 with 1 Axes>"
      ]
     },
     "metadata": {},
     "output_type": "display_data"
    }
   ],
   "source": [
    "df2 = pd.DataFrame(list(zip(_alpha, _beta, _rho)), columns=['alpha', 'beta', 'rho'])\n",
    "lines = df2.plot.line()"
   ]
  },
  {
   "cell_type": "markdown",
   "id": "32c576d0-0f9c-4ab7-a289-62165b445ed2",
   "metadata": {},
   "source": [
    "# plot edge-level confidence metrics distribution"
   ]
  },
  {
   "cell_type": "code",
   "execution_count": 77,
   "id": "84ec1f1e-7eeb-402a-87d7-22d846c10b82",
   "metadata": {},
   "outputs": [
    {
     "data": {
      "text/plain": [
       "<AxesSubplot:ylabel='Frequency'>"
      ]
     },
     "execution_count": 77,
     "metadata": {},
     "output_type": "execute_result"
    },
    {
     "data": {
      "image/png": "[encoded data removed]",
      "text/plain": [
       "<Figure size 640x480 with 1 Axes>"
      ]
     },
     "metadata": {},
     "output_type": "display_data"
    }
   ],
   "source": [
    "df['q'].plot(kind='hist')"
   ]
  },
  {
   "cell_type": "markdown",
   "id": "116279cd-02d8-4b4d-97a0-1a0f135c5444",
   "metadata": {},
   "source": [
    "# how do additional measurements affect our overall network confidence?"
   ]
  },
  {
   "cell_type": "code",
   "execution_count": 89,
   "id": "7b6c67c2-8304-4aa6-89b7-2703165601af",
   "metadata": {},
   "outputs": [
    {
     "data": {
      "image/png": "[encoded data removed]",
      "text/plain": [
       "<Figure size 640x480 with 1 Axes>"
      ]
     },
     "metadata": {},
     "output_type": "display_data"
    }
   ],
   "source": [
    "df3 = pd.DataFrame(list(zip([e for e in np.arange(0, measurement_count+1)],\n",
    "                            [rho*(alpha**measurement_count)*(1-alpha)**(measurement_count-e) / \\\n",
    "                             (rho*(alpha**e)*(1-alpha)**(measurement_count-e) + \\\n",
    "                              (1-rho)*(beta**e)*(1-beta)**(measurement_count-e)) \\\n",
    "                             for e in np.arange(0, measurement_count+1)])),\n",
    "                   columns=['log(observations)', 'confidence'])\n",
    "\n",
    "lines = df3.plot.line()"
   ]
  },
  {
   "cell_type": "markdown",
   "id": "db3f37a9-8036-4ac1-beb7-829a533e8bd1",
   "metadata": {},
   "source": [
    "# push results to bigquery"
   ]
  },
  {
   "cell_type": "code",
   "execution_count": 94,
   "id": "55a1a9cb-1d09-40b0-8df5-84f68f533c19",
   "metadata": {},
   "outputs": [
    {
     "data": {
      "text/html": [
       "<div>\n",
       "<style scoped>\n",
       "    .dataframe tbody tr th:only-of-type {\n",
       "        vertical-align: middle;\n",
       "    }\n",
       "\n",
       "    .dataframe tbody tr th {\n",
       "        vertical-align: top;\n",
       "    }\n",
       "\n",
       "    .dataframe thead th {\n",
       "        text-align: right;\n",
       "    }\n",
       "</style>\n",
       "<table border=\"1\" class=\"dataframe\">\n",
       "  <thead>\n",
       "    <tr style=\"text-align: right;\">\n",
       "      <th></th>\n",
       "      <th>uid</th>\n",
       "      <th>source</th>\n",
       "      <th>target</th>\n",
       "      <th>date</th>\n",
       "      <th>num_claims</th>\n",
       "      <th>confidence</th>\n",
       "    </tr>\n",
       "  </thead>\n",
       "  <tbody>\n",
       "    <tr>\n",
       "      <th>0</th>\n",
       "      <td>5391821</td>\n",
       "      <td>fl:hi_ln:koyama-33</td>\n",
       "      <td>c0c8f35d-998e-412e-ae9f-d7fa6510abb6</td>\n",
       "      <td>1995-02-21</td>\n",
       "      <td>99</td>\n",
       "      <td>9.999998e-01</td>\n",
       "    </tr>\n",
       "    <tr>\n",
       "      <th>1</th>\n",
       "      <td>6215065</td>\n",
       "      <td>fl:al_ln:cox-12</td>\n",
       "      <td>a60f0553-cd92-402c-b000-aab9a33f387c</td>\n",
       "      <td>2001-04-10</td>\n",
       "      <td>99</td>\n",
       "      <td>9.999998e-01</td>\n",
       "    </tr>\n",
       "    <tr>\n",
       "      <th>2</th>\n",
       "      <td>5009973</td>\n",
       "      <td>fl:sa_ln:yoshida-22</td>\n",
       "      <td>1b6fc2a6-9128-42d7-b4fc-0b8fa04733b5</td>\n",
       "      <td>1991-04-23</td>\n",
       "      <td>99</td>\n",
       "      <td>9.999998e-01</td>\n",
       "    </tr>\n",
       "    <tr>\n",
       "      <th>3</th>\n",
       "      <td>5290269</td>\n",
       "      <td>fl:ma_ln:heiman-1</td>\n",
       "      <td>c9d2e9ca-ea50-4b7a-9ff9-580f8b643bd4</td>\n",
       "      <td>1994-03-01</td>\n",
       "      <td>99</td>\n",
       "      <td>9.999998e-01</td>\n",
       "    </tr>\n",
       "    <tr>\n",
       "      <th>4</th>\n",
       "      <td>6460417</td>\n",
       "      <td>fl:ra_ln:potyrailo-1</td>\n",
       "      <td>c3d9c587-99c9-4087-87c7-89d9a1038656</td>\n",
       "      <td>2002-10-08</td>\n",
       "      <td>99</td>\n",
       "      <td>9.999998e-01</td>\n",
       "    </tr>\n",
       "    <tr>\n",
       "      <th>...</th>\n",
       "      <td>...</td>\n",
       "      <td>...</td>\n",
       "      <td>...</td>\n",
       "      <td>...</td>\n",
       "      <td>...</td>\n",
       "      <td>...</td>\n",
       "    </tr>\n",
       "    <tr>\n",
       "      <th>7115043</th>\n",
       "      <td>D724495</td>\n",
       "      <td>fl:ma_ln:majdandzic-1</td>\n",
       "      <td>7e09e3cb-d8a1-4456-b5d8-a6dc08c2226e</td>\n",
       "      <td>2015-03-17</td>\n",
       "      <td>1</td>\n",
       "      <td>8.266389e-08</td>\n",
       "    </tr>\n",
       "    <tr>\n",
       "      <th>7115044</th>\n",
       "      <td>D811493</td>\n",
       "      <td>fl:st_ln:walterscheid-2</td>\n",
       "      <td>f732f476-6b40-42d5-87d8-0cd11e3ed56f</td>\n",
       "      <td>2018-02-27</td>\n",
       "      <td>1</td>\n",
       "      <td>8.266389e-08</td>\n",
       "    </tr>\n",
       "    <tr>\n",
       "      <th>7115045</th>\n",
       "      <td>D519144</td>\n",
       "      <td>fl:te_ln:kato-21</td>\n",
       "      <td>256ce24b-a535-4b25-96f9-ea7f8c1fa74d</td>\n",
       "      <td>2006-04-18</td>\n",
       "      <td>1</td>\n",
       "      <td>8.266389e-08</td>\n",
       "    </tr>\n",
       "    <tr>\n",
       "      <th>7115046</th>\n",
       "      <td>D528856</td>\n",
       "      <td>fl:cu_ln:pascal-1</td>\n",
       "      <td>5b39e708-c10a-4f25-a3c5-a8318c02ecb4</td>\n",
       "      <td>2006-09-26</td>\n",
       "      <td>1</td>\n",
       "      <td>8.266389e-08</td>\n",
       "    </tr>\n",
       "    <tr>\n",
       "      <th>7115047</th>\n",
       "      <td>D822773</td>\n",
       "      <td>fl:aj_ln:khubani-1</td>\n",
       "      <td>b25e1785-58f6-4b8f-a711-b1e05e7dbe06</td>\n",
       "      <td>2018-07-10</td>\n",
       "      <td>1</td>\n",
       "      <td>8.266389e-08</td>\n",
       "    </tr>\n",
       "  </tbody>\n",
       "</table>\n",
       "<p>7115048 rows × 6 columns</p>\n",
       "</div>"
      ],
      "text/plain": [
       "             uid                   source  \\\n",
       "0        5391821       fl:hi_ln:koyama-33   \n",
       "1        6215065          fl:al_ln:cox-12   \n",
       "2        5009973      fl:sa_ln:yoshida-22   \n",
       "3        5290269        fl:ma_ln:heiman-1   \n",
       "4        6460417     fl:ra_ln:potyrailo-1   \n",
       "...          ...                      ...   \n",
       "7115043  D724495    fl:ma_ln:majdandzic-1   \n",
       "7115044  D811493  fl:st_ln:walterscheid-2   \n",
       "7115045  D519144         fl:te_ln:kato-21   \n",
       "7115046  D528856        fl:cu_ln:pascal-1   \n",
       "7115047  D822773       fl:aj_ln:khubani-1   \n",
       "\n",
       "                                       target        date  num_claims  \\\n",
       "0        c0c8f35d-998e-412e-ae9f-d7fa6510abb6  1995-02-21          99   \n",
       "1        a60f0553-cd92-402c-b000-aab9a33f387c  2001-04-10          99   \n",
       "2        1b6fc2a6-9128-42d7-b4fc-0b8fa04733b5  1991-04-23          99   \n",
       "3        c9d2e9ca-ea50-4b7a-9ff9-580f8b643bd4  1994-03-01          99   \n",
       "4        c3d9c587-99c9-4087-87c7-89d9a1038656  2002-10-08          99   \n",
       "...                                       ...         ...         ...   \n",
       "7115043  7e09e3cb-d8a1-4456-b5d8-a6dc08c2226e  2015-03-17           1   \n",
       "7115044  f732f476-6b40-42d5-87d8-0cd11e3ed56f  2018-02-27           1   \n",
       "7115045  256ce24b-a535-4b25-96f9-ea7f8c1fa74d  2006-04-18           1   \n",
       "7115046  5b39e708-c10a-4f25-a3c5-a8318c02ecb4  2006-09-26           1   \n",
       "7115047  b25e1785-58f6-4b8f-a711-b1e05e7dbe06  2018-07-10           1   \n",
       "\n",
       "           confidence  \n",
       "0        9.999998e-01  \n",
       "1        9.999998e-01  \n",
       "2        9.999998e-01  \n",
       "3        9.999998e-01  \n",
       "4        9.999998e-01  \n",
       "...               ...  \n",
       "7115043  8.266389e-08  \n",
       "7115044  8.266389e-08  \n",
       "7115045  8.266389e-08  \n",
       "7115046  8.266389e-08  \n",
       "7115047  8.266389e-08  \n",
       "\n",
       "[7115048 rows x 6 columns]"
      ]
     },
     "execution_count": 94,
     "metadata": {},
     "output_type": "execute_result"
    }
   ],
   "source": [
    "del df['eq']\n",
    "del df['e']\n",
    "df = df.rename(columns={'q': 'confidence'})\n",
    "df"
   ]
  },
  {
   "cell_type": "code",
   "execution_count": 99,
   "id": "d6d40f12-1418-46b8-a405-bcdb5ba39f17",
   "metadata": {},
   "outputs": [
    {
     "name": "stderr",
     "output_type": "stream",
     "text": [
      "100%|██████████| 1/1 [00:00<00:00, 8422.30it/s]\n"
     ]
    }
   ],
   "source": [
    "df.to_gbq('master.ngta')"
   ]
  },
  {
   "cell_type": "markdown",
   "id": "787ef4c1-4a07-4300-8e3e-7e24db815fc7",
   "metadata": {},
   "source": [
    "# takeaways\n",
    "## alpha = network-average true positive rate. \n",
    "### a small alpha value implies many false negatives. ie, edges in the true network are not present in the data\n",
    "## beta = network-average false positive rate\n",
    "### a small beta value implies few false positives: an edge is rarely observed where none exists\n",
    "## False Discovery Rate\n",
    "### probability of an observed edge being false: a small false discovery rate implies that observed edges are part of the true network\n",
    "## edge-level q values\n",
    "### for each edge, our calculated q-value is the probability that the edge exists in the true network"
   ]
  }
 ],
 "metadata": {
  "environment": {
   "kernel": "python3",
   "name": "tf2-gpu.2-8.m100",
   "type": "gcloud",
   "uri": "gcr.io/deeplearning-platform-release/tf2-gpu.2-8:m100"
  },
  "kernelspec": {
   "display_name": "Python 3",
   "language": "python",
   "name": "python3"
  },
  "language_info": {
   "codemirror_mode": {
    "name": "ipython",
    "version": 3
   },
   "file_extension": ".py",
   "mimetype": "text/x-python",
   "name": "python",
   "nbconvert_exporter": "python",
   "pygments_lexer": "ipython3",
   "version": "3.7.12"
  }
 },
 "nbformat": 4,
 "nbformat_minor": 5
}
